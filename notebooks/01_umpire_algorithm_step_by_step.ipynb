{
 "cells": [
  {
   "cell_type": "markdown",
   "id": "b17f4063",
   "metadata": {},
   "source": [
    "# UMPIRE\n",
    "\n",
    ">Simon Robinson, H. Schödl, S. Trattnig  \n",
    "**A method for unwrapping highly wrapped multi-echo phase images at very high field: UMPIRE**   \n",
    " Magnetic Resonance in Medicine. 2014 Jul;72(1):80-92. DOI: [10.1002/mrm.24897](https://onlinelibrary.wiley.com/doi/10.1002/mrm.24897). PMID: 23901001; PMCID: PMC4062430.\n"
   ]
  },
  {
   "cell_type": "markdown",
   "id": "d885380a",
   "metadata": {},
   "source": [
    "**Here we test our implementation of the UMPIRE algorithm by importing and using our custom module**\n",
    "\n",
    "<a id=\"0\"></a> <br>\n",
    "## Table of Contents  \n",
    "1. **[Wrapped Phase Image Generation](#1)**\n",
    "    1. [Generate Phase Images](#1a)\n",
    "    2. [Artificially Wrap Phase](#1b)\n",
    "    \n",
    "2. **[UMPIRE](#2)**\n",
    "    1. [STEP 0: Define Echo Times, $\\Delta T$ and $\\delta t$](#2_1)\n",
    "    2. [STEP 1: Phase images $\\theta_i$ are reconstructed for each echo time $T_{Ei}$](#2_2)\n",
    "    3. [STEP 2: Phase Difference Images are calculated](#2_3)\n",
    "    4. [STEP 3: Difference Between Phase Difference Images is calculated](#2_4)\n",
    "    5. [STEP 5: Identify wraps in PD image using $\\omega$](#2_5)\n",
    "    6. [STEP 6: Unwrapping PD images ( by pixelwise substraction of $2 \\pi\\cdot n$)](#2_6)\n",
    "    7. [STEP 7: Obtain higher SNR estimate of $\\omega^\\ast$ using unwrapped PD images](#2_7)\n",
    "    8. [STEP 8: Use refined $\\omega^\\ast$-map to identify wraps in original phase images](#2_8)\n",
    "    9. [STEP 9: Remove wraps that occured during TE](#2_9)\n",
    "    10. [STEP 10: Calculate Reciever Phase Offset R](#2_10)\n",
    "    11. [STEP 11: Substract Reciever Offset from each phase image](#2_11)\n",
    "    12. [STEP 12: (See step 8) Re-estimate number of wraps that occured between 0 and $T_Ei$](#2_12)\n",
    "    13. [STEP 13: Finally yield images free of wraps due to both reciever offsetand $\\Delta B_0$ variations](#2_13)\n",
    "    \n",
    "3. **[Comparison to Original: Reciever Offset is calculated out!](#2_14)**\n"
   ]
  },
  {
   "cell_type": "code",
   "execution_count": null,
   "id": "01f4170a",
   "metadata": {},
   "outputs": [],
   "source": [
    "%matplotlib inline\n",
    "\n",
    "import numpy as np\n",
    "import matplotlib.pyplot as plt\n",
    "\n",
    "from umpire import UMPIRE\n",
    "from umpire.utils import plot_colorbar, plot_image_series\n",
    "\n",
    "# custom manual import of test lib\n",
    "import sys\n",
    "sys.path.append(\"../tests\")\n",
    "from test_umpire import generate_simulated_data_2D, wrap_phase"
   ]
  },
  {
   "cell_type": "markdown",
   "id": "230117b0",
   "metadata": {},
   "source": [
    "<a id=\"1\"></a>      \n",
    "# 01. Wrapped Phase Image Generation\n",
    "\n",
    "<a id=\"1a\"></a> \n",
    "### Generate Phase Images\n",
    "\n",
    "The phase image get a\n",
    "\n",
    "- static gradient along the y-axis (that is, only spatially dependent) and\n",
    "- a dynamic gradient along the x-axis (that is, the gradient changes both with echo time TE and location x)"
   ]
  },
  {
   "cell_type": "code",
   "execution_count": null,
   "id": "88bc0738",
   "metadata": {},
   "outputs": [],
   "source": [
    "TEs = [5, 10, 16]\n",
    "img_dims = (128, 128)"
   ]
  },
  {
   "cell_type": "code",
   "execution_count": null,
   "id": "5042b81e",
   "metadata": {},
   "outputs": [],
   "source": [
    "phis = generate_simulated_data_2D(img_dims, TEs)"
   ]
  },
  {
   "cell_type": "markdown",
   "id": "59d40559",
   "metadata": {},
   "source": [
    "<a id=\"1b\"></a> \n",
    "### Artificially Wrap Phase\n",
    "\n",
    "The measured phase $\\theta$ can only be defined over a range spannig 2$\\pi$ rad means that vlaues of the true phase $\\Phi$ outside this range become aliased:\n",
    "\n",
    "$$ \\theta = \\Phi - n2\\pi \\quad\\text{with}\\quad n = \\Bigg\\lfloor\\frac{\\Phi}{2\\pi}\\Bigg\\rfloor$$\n",
    "\n",
    "With the brackets denoting the floor function."
   ]
  },
  {
   "cell_type": "code",
   "execution_count": null,
   "id": "41d57a78",
   "metadata": {},
   "outputs": [],
   "source": [
    "phis_wrapped = wrap_phase(phis)\n",
    "\n",
    "plot_image_series(phis_wrapped, [f\"TE = {t} ms\" for t in TEs], figsize=(9,4))"
   ]
  },
  {
   "cell_type": "markdown",
   "id": "270d2df5",
   "metadata": {},
   "source": [
    "------\n",
    "<a id=\"2\"></a> <br>\n",
    "# 02. UMPIRE"
   ]
  },
  {
   "cell_type": "markdown",
   "id": "a178fecc",
   "metadata": {},
   "source": [
    "<a id=\"2_1\"></a> <br>\n",
    "#### STEP 1: Phase images $\\theta_i$ are reconstructed for each echo time $T_{Ei}$\n",
    "\n",
    "Note: This step is for complex data, when phase images are provided the arrays stay untouched."
   ]
  },
  {
   "cell_type": "code",
   "execution_count": null,
   "id": "97edc4a0",
   "metadata": {},
   "outputs": [],
   "source": [
    "out_1 = UMPIRE(phis_wrapped, TEs, debug_return_step=1)"
   ]
  },
  {
   "cell_type": "code",
   "execution_count": null,
   "id": "0b2503e6",
   "metadata": {},
   "outputs": [],
   "source": [
    "plot_image_series(out_1, [f\"TE = {t} ms\" for t in TEs], figsize=(9,4))"
   ]
  },
  {
   "cell_type": "markdown",
   "id": "3e012638",
   "metadata": {},
   "source": [
    "<a id=\"2_2\"></a> <br>\n",
    "#### STEP 2: Phase Difference Images are calculated\n",
    "\n",
    "\\begin{equation} \n",
    "\\theta_{i+1, i} = \\angle \\exp(i (\\theta_{i+1} - \\theta_i))\n",
    "\\end{equation}"
   ]
  },
  {
   "cell_type": "code",
   "execution_count": null,
   "id": "1e7c7e28",
   "metadata": {},
   "outputs": [],
   "source": [
    "out_2 = UMPIRE(phis_wrapped, TEs, debug_return_step=2)"
   ]
  },
  {
   "cell_type": "code",
   "execution_count": null,
   "id": "8a150381",
   "metadata": {},
   "outputs": [],
   "source": [
    "plot_image_series(out_2, [f'PD {i+2}-{i+1}' for i in range(len(TEs)-1)], figsize=(9,4))"
   ]
  },
  {
   "cell_type": "markdown",
   "id": "6a75e8e2",
   "metadata": {},
   "source": [
    "<a id=\"2_3\"></a> <br>\n",
    "#### STEP 3: Difference Between Phase Difference Images is calculated\n",
    "\n",
    "\n",
    "\\begin{equation} \n",
    "\\theta_{i+2, i+1, i} = \\angle \\exp(i (\\theta_{i+2} - 2\\theta_{i+1} + \\theta_i))\n",
    "\\end{equation}"
   ]
  },
  {
   "cell_type": "code",
   "execution_count": null,
   "id": "c4460eb4",
   "metadata": {},
   "outputs": [],
   "source": [
    "out_3 = UMPIRE(phis_wrapped, TEs, debug_return_step=3)"
   ]
  },
  {
   "cell_type": "code",
   "execution_count": null,
   "id": "cb315874",
   "metadata": {},
   "outputs": [],
   "source": [
    "plot_image_series(out_3, [\"DPD\", \"DPD + median filter\"], figsize=(9,4))"
   ]
  },
  {
   "cell_type": "markdown",
   "id": "d96ed10c",
   "metadata": {},
   "source": [
    "<a id=\"2_4\"></a> <br>\n",
    "#### STEP 4: Convert DPD to $\\omega$-image\n",
    "\n",
    "\\begin{equation}\n",
    "\\omega = \\frac{\\theta_{i+2, i+1, i}}{\\delta T_E}\n",
    "\\end{equation}"
   ]
  },
  {
   "cell_type": "code",
   "execution_count": null,
   "id": "8c6b7449",
   "metadata": {},
   "outputs": [],
   "source": [
    "out_4 = UMPIRE(phis_wrapped, TEs, debug_return_step=4)"
   ]
  },
  {
   "cell_type": "code",
   "execution_count": null,
   "id": "73e60bf5",
   "metadata": {},
   "outputs": [],
   "source": [
    "fig, ax = plt.subplots(ncols=1, figsize=(5,5))\n",
    "\n",
    "ax.imshow(out_4, cmap='plasma')\n",
    "plot_colorbar(fig, ax, out_4)\n",
    "ax.axis('off')\n",
    "ax.set_title('$\\omega$-map')\n",
    "    \n",
    "fig.tight_layout()"
   ]
  },
  {
   "cell_type": "markdown",
   "id": "9cff3208",
   "metadata": {},
   "source": [
    "<a id=\"2_5\"></a> <br>\n",
    "#### STEP 5: Identify wraps in PD image using $\\omega$\n",
    "\n",
    "\\begin{align}\n",
    "n_{i+1, i} = \\Bigg\\lfloor \\frac{\\theta_{i+1, i} - (T_{Ei+1} - T_{Ei}) \\cdot \\omega}{2\\pi} \\Bigg\\rfloor\n",
    "\\end{align}"
   ]
  },
  {
   "cell_type": "code",
   "execution_count": null,
   "id": "c1f9222d",
   "metadata": {},
   "outputs": [],
   "source": [
    "out_5 = UMPIRE(phis_wrapped, TEs, debug_return_step=5)"
   ]
  },
  {
   "cell_type": "code",
   "execution_count": null,
   "id": "8219563f",
   "metadata": {},
   "outputs": [],
   "source": [
    "plot_image_series(out_5, [f'n{i+2}-{i+1}' for i in range(len(out_5))], figsize=(9,4))"
   ]
  },
  {
   "cell_type": "markdown",
   "id": "e55e9aca",
   "metadata": {},
   "source": [
    "<a id=\"2_6\"></a> <br>\n",
    "#### STEP 6:   Unwrapping PD images ( by pixelwise substraction of $2 \\pi\\cdot n$)\n",
    "\n",
    "\\begin{align}\n",
    "\\theta'_{i+1, i} = \\theta_{i+1, i} - 2\\pi n_{i+1, i}\n",
    "\\end{align}"
   ]
  },
  {
   "cell_type": "code",
   "execution_count": null,
   "id": "2189f6f8",
   "metadata": {},
   "outputs": [],
   "source": [
    "out_6 = UMPIRE(phis_wrapped, TEs, debug_return_step=6)"
   ]
  },
  {
   "cell_type": "code",
   "execution_count": null,
   "id": "c901f1cd",
   "metadata": {},
   "outputs": [],
   "source": [
    "plot_image_series(out_6, [f'PD{i+2}{i+1}_prime' for i in range(len(out_6))], figsize=(9,4))"
   ]
  },
  {
   "cell_type": "markdown",
   "id": "616acf60",
   "metadata": {},
   "source": [
    "<a id=\"2_7\"></a> <br>\n",
    "#### STEP 7: Obtain higher SNR estimate of $\\omega^\\ast$ using unwrapped PD images\n",
    "\n",
    "\\begin{align}\n",
    "\\omega^\\ast = \\frac{\\theta'_{i+1, i}}{\\Delta T_E}\n",
    "\\end{align}\n",
    "\n",
    "A magnitude-weighted average of $\\theta'_{3,2}$ and $\\theta'_{2,1}$ could be used here, we use only one PD here."
   ]
  },
  {
   "cell_type": "code",
   "execution_count": null,
   "id": "1ca6a71b",
   "metadata": {},
   "outputs": [],
   "source": [
    "out_7 = UMPIRE(phis_wrapped, TEs, debug_return_step=7, magnitude_weighted_omega_star=False)"
   ]
  },
  {
   "cell_type": "code",
   "execution_count": null,
   "id": "c92893f9",
   "metadata": {},
   "outputs": [],
   "source": [
    "fig, ax = plt.subplots(ncols=1, figsize=(5,5))\n",
    "\n",
    "ax.imshow(out_7, cmap='plasma')\n",
    "plot_colorbar(fig, ax, out_4)\n",
    "ax.axis('off')\n",
    "ax.set_title('$\\omega^*$-map')\n",
    "    \n",
    "fig.tight_layout()"
   ]
  },
  {
   "cell_type": "markdown",
   "id": "232970c7",
   "metadata": {},
   "source": [
    "<a id=\"2_8\"></a> <br>\n",
    "#### STEP 8: Use refined $\\omega^\\ast$-map to identify wraps in original phase images\n",
    "\n",
    "\\begin{align}\n",
    "n_i = \\Bigg\\lfloor \\frac{\\theta_i - T_{Ei} \\cdot \\omega^\\ast}{2\\pi} \\Bigg\\rfloor\n",
    "\\end{align}"
   ]
  },
  {
   "cell_type": "code",
   "execution_count": null,
   "id": "454bd8e9",
   "metadata": {},
   "outputs": [],
   "source": [
    "out_8 = UMPIRE(phis_wrapped, TEs, debug_return_step=8)"
   ]
  },
  {
   "cell_type": "code",
   "execution_count": null,
   "id": "07752d09",
   "metadata": {},
   "outputs": [],
   "source": [
    "plot_image_series(out_8, [f\"n{i}\" for i in range(len(out_8))], figsize=(9,4))"
   ]
  },
  {
   "cell_type": "markdown",
   "id": "254c13a2",
   "metadata": {},
   "source": [
    "<a id=\"2_9\"></a> <br>\n",
    "#### STEP 9: Remove wraps that occured during TE\n",
    "\n",
    "\\begin{align}\n",
    "\\theta'_i = \\theta_i - 2\\pi n_i\n",
    "\\end{align}"
   ]
  },
  {
   "cell_type": "code",
   "execution_count": null,
   "id": "2be25412",
   "metadata": {},
   "outputs": [],
   "source": [
    "out_9 = UMPIRE(phis_wrapped, TEs, debug_return_step=9)"
   ]
  },
  {
   "cell_type": "code",
   "execution_count": null,
   "id": "f5d8f391",
   "metadata": {},
   "outputs": [],
   "source": [
    "plot_image_series(out_9, [f\"TE = {t} ms\" for t in TEs], figsize=(9,4))"
   ]
  },
  {
   "cell_type": "markdown",
   "id": "9c502238",
   "metadata": {},
   "source": [
    "<a id=\"2_10\"></a> <br>\n",
    "#### STEP 10: Calculate Reciever Phase Offset R\n",
    "\n",
    "\\begin{align}\n",
    "R = \\frac{T_{E1}\\cdot\\theta'_2 - T_{E2}\\cdot\\theta'_1}{T_{E1} - T_{E2}}\n",
    "\\end{align}"
   ]
  },
  {
   "cell_type": "code",
   "execution_count": null,
   "id": "49ea3bdc",
   "metadata": {},
   "outputs": [],
   "source": [
    "out_10 = UMPIRE(phis_wrapped, TEs, debug_return_step=10)"
   ]
  },
  {
   "cell_type": "code",
   "execution_count": null,
   "id": "26dabfb2",
   "metadata": {},
   "outputs": [],
   "source": [
    "fig, ax = plt.subplots(ncols=1, figsize=(4,4))\n",
    "\n",
    "ax.imshow(out_10, cmap='plasma')\n",
    "plot_colorbar(fig, ax, out_10)\n",
    "ax.axis('off')\n",
    "ax.set_title('Reciever Offset R')\n",
    "    \n",
    "fig.tight_layout()"
   ]
  },
  {
   "cell_type": "markdown",
   "id": "9e38decd",
   "metadata": {},
   "source": [
    "<a id=\"2_11\"></a> <br>\n",
    "#### STEP 11: Substract Reciever Offset from each phase image\n",
    "\n",
    "\\begin{align}\n",
    "\\theta_{i0} = \\angle\\exp(i(\\theta_i - R))\n",
    "\\end{align}"
   ]
  },
  {
   "cell_type": "code",
   "execution_count": null,
   "id": "4348626f",
   "metadata": {},
   "outputs": [],
   "source": [
    "out_11 = UMPIRE(phis_wrapped, TEs, debug_return_step=11)"
   ]
  },
  {
   "cell_type": "code",
   "execution_count": null,
   "id": "5f1f7111",
   "metadata": {},
   "outputs": [],
   "source": [
    "plot_image_series(out_11, [f\"theta{i}_zero\" for i in range(len(out_11))], figsize=(9,4))"
   ]
  },
  {
   "cell_type": "markdown",
   "id": "66a8f4bb",
   "metadata": {},
   "source": [
    "<a id=\"2_12\"></a> <br>\n",
    "#### STEP 12: (See step 8) Re-estimate number of wraps that occured between 0 and $T_Ei$\n",
    "\n",
    "\\begin{align}\n",
    "n'_i = \\Bigg\\lfloor \\frac{\\theta_{i0} - T_{Ei} \\cdot \\omega^\\ast}{2\\pi} \\Bigg\\rfloor\n",
    "\\end{align}"
   ]
  },
  {
   "cell_type": "code",
   "execution_count": null,
   "id": "96ece0ed",
   "metadata": {},
   "outputs": [],
   "source": [
    "out_12 = UMPIRE(phis_wrapped, TEs, debug_return_step=12)"
   ]
  },
  {
   "cell_type": "code",
   "execution_count": null,
   "id": "4f328b65",
   "metadata": {},
   "outputs": [],
   "source": [
    "plot_image_series(out_12, [f\"n{i}_prime\" for i in range(len(out_12))], figsize=(9,4))"
   ]
  },
  {
   "cell_type": "markdown",
   "id": "0a2c81d6",
   "metadata": {},
   "source": [
    "<a id=\"2_13\"></a> <br>\n",
    "#### STEP 13: Finally yield images free of wraps due to both reciever offsetand $\\Delta B_0$ variations\n",
    "\n",
    "\\begin{align}\n",
    "\\theta''_i = \\theta_{i0} - 2\\pi n'_i\n",
    "\\end{align}"
   ]
  },
  {
   "cell_type": "code",
   "execution_count": null,
   "id": "2cb1f1bb",
   "metadata": {},
   "outputs": [],
   "source": [
    "out_13 = UMPIRE(phis_wrapped, TEs)"
   ]
  },
  {
   "cell_type": "code",
   "execution_count": null,
   "id": "b202eaf2",
   "metadata": {},
   "outputs": [],
   "source": [
    "plot_image_series(out_13, [f\"theta{i}_primeprime\" for i in range(len(out_13))], figsize=(9,4))"
   ]
  },
  {
   "cell_type": "markdown",
   "id": "57317ef4",
   "metadata": {},
   "source": [
    "# 03. Comparison to Original: Reciever Offset is calculated out!"
   ]
  },
  {
   "cell_type": "code",
   "execution_count": null,
   "id": "03c10ebd",
   "metadata": {},
   "outputs": [],
   "source": [
    "phase_ground_truth = generate_simulated_data_2D(img_dims, TEs, reciever_offset=False)\n",
    "\n",
    "error = np.abs(out_13 - phase_ground_truth)\n",
    "\n",
    "plot_image_series(np.concatenate((out_13, phase_ground_truth, error)),\n",
    "                  [f\"TE = {t} ms\\nUMPIRE\" for t in TEs] + [\"ground truth\"] * 3 + [\"abs. error map\"] * 3,\n",
    "                  nrows=3,\n",
    "                  figsize=(9,9))"
   ]
  }
 ],
 "metadata": {
  "kernelspec": {
   "display_name": "Python 3 (ipykernel)",
   "language": "python",
   "name": "python3"
  },
  "language_info": {
   "codemirror_mode": {
    "name": "ipython",
    "version": 3
   },
   "file_extension": ".py",
   "mimetype": "text/x-python",
   "name": "python",
   "nbconvert_exporter": "python",
   "pygments_lexer": "ipython3",
   "version": "3.7.0"
  }
 },
 "nbformat": 4,
 "nbformat_minor": 5
}
