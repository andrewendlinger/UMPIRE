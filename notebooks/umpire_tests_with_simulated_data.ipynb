{
 "cells": [
  {
   "cell_type": "markdown",
   "id": "4fb10853",
   "metadata": {},
   "source": [
    "# Phantom Generation for UMPIRE Test Cases\n",
    "\n",
    "Showcase of Phantom Generation for UMPIRE test cases. 2D and semi 3D.\n",
    "\n",
    "> **Have a look at the imported test-function documentation for detailed information**\n"
   ]
  },
  {
   "cell_type": "code",
   "execution_count": null,
   "id": "b3def902",
   "metadata": {},
   "outputs": [],
   "source": [
    "# jupyter-notebook extensions\n",
    "%matplotlib notebook\n",
    "%load_ext autoreload\n",
    "%autoreload 2\n",
    "\n",
    "import numpy as np\n",
    "import matplotlib.pyplot as plt\n",
    "\n",
    "# custom import of built umpire package\n",
    "from umpire import UMPIRE\n",
    "# some plotting functions\n",
    "from umpire.utils import plot_image_series, plot_4d\n",
    "\n",
    "# custom manual import of test lib\n",
    "import sys\n",
    "sys.path.append(\"../tests\")\n",
    "\n",
    "from test_umpire import generate_simulated_data_2D, generate_simulated_data_semi3D, wrap_phase"
   ]
  },
  {
   "cell_type": "markdown",
   "id": "ae0e51bc",
   "metadata": {},
   "source": [
    "# 2D Phantoms"
   ]
  },
  {
   "cell_type": "code",
   "execution_count": null,
   "id": "cdebad92",
   "metadata": {},
   "outputs": [],
   "source": [
    "TEs = [5, 10, 16, 21]\n",
    "img_dims_2d = (64, 64)"
   ]
  },
  {
   "cell_type": "markdown",
   "id": "b473dc61",
   "metadata": {},
   "source": [
    "### 01. Generate Phase Images"
   ]
  },
  {
   "cell_type": "code",
   "execution_count": null,
   "id": "11598e9a",
   "metadata": {},
   "outputs": [],
   "source": [
    "phase_images_2d = generate_simulated_data_2D(img_dims_2d, TEs, reciever_offset=True)\n",
    "\n",
    "plot_image_series(phase_images_2d, [f\"TE = {t} ms\" for t in TEs], nrows=1, figsize=(9,2))"
   ]
  },
  {
   "cell_type": "markdown",
   "id": "182a8c94",
   "metadata": {},
   "source": [
    "### 02. Wrap Phase Images"
   ]
  },
  {
   "cell_type": "code",
   "execution_count": null,
   "id": "412f210f",
   "metadata": {},
   "outputs": [],
   "source": [
    "phase_imgs_2d_wrapped = wrap_phase(phase_images_2d)\n",
    "\n",
    "plot_image_series(phase_imgs_2d_wrapped, [f\"TE = {t} ms\" for t in TEs], figsize=(9,2))"
   ]
  },
  {
   "cell_type": "markdown",
   "id": "478393c4",
   "metadata": {},
   "source": [
    "### 03. Apply UMPIRE and compare with ground truth\n",
    "\n",
    "Along the edges at exactly $\\phi = \\pi$ and $\\phi=-\\pi$ floating point errors lead to false results.  \n",
    "This is however a very artificial szenario and should be of no concern."
   ]
  },
  {
   "cell_type": "code",
   "execution_count": null,
   "id": "f9d9449d",
   "metadata": {},
   "outputs": [],
   "source": [
    "phase_imgs_2d_umpire = UMPIRE(\n",
    "    phase_imgs_2d_wrapped,\n",
    "    TEs,\n",
    "    DPD_filter_func=False,\n",
    "    magnitude_weighted_omega_star=False,\n",
    ")\n",
    "\n",
    "phase_images_2d_groundtruth = generate_simulated_data_2D(img_dims_2d, TEs, reciever_offset=False)\n",
    "\n",
    "plot_image_series(np.concatenate((phase_imgs_2d_umpire, phase_images_2d_groundtruth)),\n",
    "                  [f\"TE = {t} ms \\nUMPIRE\" for t in TEs] + [\"ground truth\"] * 4,\n",
    "                  nrows=2,\n",
    "                  plot_func = lambda x,y: x.imshow(y, cmap='plasma'),\n",
    "                  figsize=(9,4))"
   ]
  },
  {
   "cell_type": "markdown",
   "id": "4922158f",
   "metadata": {},
   "source": [
    "---\n",
    "# semi3D Phantoms"
   ]
  },
  {
   "cell_type": "code",
   "execution_count": null,
   "id": "f52e235c",
   "metadata": {},
   "outputs": [],
   "source": [
    "TEs = [5, 10, 16]\n",
    "img_dims_3d = (64, 64, 64)"
   ]
  },
  {
   "cell_type": "markdown",
   "id": "84f1e24b",
   "metadata": {},
   "source": [
    "### 01. Generate 3D Phase Images\n",
    "\n",
    "We ony display the first echo time here."
   ]
  },
  {
   "cell_type": "code",
   "execution_count": null,
   "id": "14279e12",
   "metadata": {},
   "outputs": [],
   "source": [
    "phase_images_3d = generate_simulated_data_semi3D(img_dims_3d, TEs)\n",
    "\n",
    "ax = plot_4d(phase_images_3d[0], label=\"x\")\n",
    "ax.set_title(\"TE = 5ms\")\n",
    "plt.tight_layout()"
   ]
  },
  {
   "cell_type": "markdown",
   "id": "3526ee80",
   "metadata": {},
   "source": [
    "### 02. Wrap the Phase"
   ]
  },
  {
   "cell_type": "code",
   "execution_count": null,
   "id": "c7ed7e14",
   "metadata": {},
   "outputs": [],
   "source": [
    "phase_images_3d_wrapped = wrap_phase(phase_images_3d)\n",
    "\n",
    "ax = plot_4d(phase_images_3d_wrapped[0], label=\"x\")\n",
    "ax.set_title(\"TE = 5ms\")\n",
    "plt.tight_layout()"
   ]
  },
  {
   "cell_type": "markdown",
   "id": "1ff7caf9",
   "metadata": {},
   "source": [
    "### 03. Apply UMPIRE\n",
    "\n",
    "Again as with the 2D case, along the edges at exactly $\\phi = \\pi$ and $\\phi=-\\pi$ floating point errors lead to false results.  \n",
    "This is however a very artificial szenario and should be of no concern."
   ]
  },
  {
   "cell_type": "code",
   "execution_count": null,
   "id": "9068dce9",
   "metadata": {},
   "outputs": [],
   "source": [
    "phase_images_3d_umpire = UMPIRE(\n",
    "    phase_images_3d_wrapped,\n",
    "    TEs,\n",
    "    DPD_filter_func=False,\n",
    "    magnitude_weighted_omega_star=False,\n",
    ")\n",
    "\n",
    "ax = plot_4d(phase_images_3d_umpire[0], label=\"x\")\n",
    "ax.set_title(\"TE = 5ms\\nUMPIRE\")\n",
    "plt.tight_layout()"
   ]
  }
 ],
 "metadata": {
  "kernelspec": {
   "display_name": "Python 3 (ipykernel)",
   "language": "python",
   "name": "python3"
  },
  "language_info": {
   "codemirror_mode": {
    "name": "ipython",
    "version": 3
   },
   "file_extension": ".py",
   "mimetype": "text/x-python",
   "name": "python",
   "nbconvert_exporter": "python",
   "pygments_lexer": "ipython3",
   "version": "3.7.0"
  }
 },
 "nbformat": 4,
 "nbformat_minor": 5
}
