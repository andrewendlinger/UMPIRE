{
 "cells": [
  {
   "cell_type": "code",
   "execution_count": null,
   "id": "92eb9aaa",
   "metadata": {},
   "outputs": [],
   "source": [
    "# jupyter-notebook extensions\n",
    "%matplotlib notebook\n",
    "%load_ext autoreload\n",
    "%autoreload 2\n",
    "\n",
    "import numpy as np\n",
    "import matplotlib.pyplot as plt\n",
    "\n",
    "# custom import of built umpire package\n",
    "from umpire import UMPIRE\n",
    "# some plotting functions\n",
    "from umpire.utils import plot_image_series\n",
    "\n",
    "# custom manual import of test lib\n",
    "import sys\n",
    "sys.path.append(\"../tests\")\n",
    "\n",
    "from test_umpire import generate_simulated_data_2D, wrap_phase"
   ]
  },
  {
   "cell_type": "markdown",
   "id": "c1155676",
   "metadata": {},
   "source": [
    "### Define helpful noise function"
   ]
  },
  {
   "cell_type": "code",
   "execution_count": null,
   "id": "9ce171db",
   "metadata": {},
   "outputs": [],
   "source": [
    "def noisy(noise_typ,image):\n",
    "    \"\"\"Noisyfy images.\n",
    "    \n",
    "    https://stackoverflow.com/questions/22937589/how-to-add-noise-gaussian-salt-and-pepper-etc-to-image-in-python-with-opencv\n",
    "    \n",
    "    Parameters\n",
    "    ----------\n",
    "    image : ndarray\n",
    "        Input image data. Will be converted to float.\n",
    "    mode : str\n",
    "        One of the following strings, selecting the type of noise to add:\n",
    "\n",
    "        'gauss'     Gaussian-distributed additive noise.\n",
    "        's&p'       Replaces random pixels with 0 or 1.\n",
    "        'speckle'   Multiplicative noise using out = image + n*image,where\n",
    "                    n is uniform noise with specified mean & variance.\n",
    "    \"\"\"\n",
    "    if noise_typ == \"gauss\":\n",
    "        row,col,ch= image.shape\n",
    "        mean = 0\n",
    "        var = 0.5\n",
    "        sigma = var**0.5\n",
    "        gauss = np.random.normal(mean,sigma,(row,col,ch))\n",
    "        gauss = gauss.reshape(row,col,ch)\n",
    "        noisy = image + gauss\n",
    "        return noisy\n",
    "    \n",
    "    elif noise_typ == \"s&p\":\n",
    "        row,col,ch = image.shape\n",
    "        s_vs_p = 0.5\n",
    "        amount = 0.004\n",
    "        out = np.copy(image)\n",
    "        # Salt mode\n",
    "        num_salt = np.ceil(amount * image.size * s_vs_p)\n",
    "        coords = [np.random.randint(0, i - 1, int(num_salt))\n",
    "              for i in image.shape]\n",
    "        out[coords] = 1\n",
    "        # Pepper mode\n",
    "        num_pepper = np.ceil(amount* image.size * (1. - s_vs_p))\n",
    "        coords = [np.random.randint(0, i - 1, int(num_pepper))\n",
    "              for i in image.shape]\n",
    "        out[coords] = 0\n",
    "        return out\n",
    "    \n",
    "    elif noise_typ ==\"speckle\":\n",
    "        row,col,ch = image.shape\n",
    "        gauss = np.random.randn(row,col,ch)\n",
    "        gauss = gauss.reshape(row,col,ch)        \n",
    "        noisy = image + image * gauss * 0.02\n",
    "        return noisy"
   ]
  },
  {
   "cell_type": "code",
   "execution_count": null,
   "id": "1067b0ce",
   "metadata": {},
   "outputs": [],
   "source": [
    "TEs = [5, 10, 16]\n",
    "img_dims = (64, 64)"
   ]
  },
  {
   "cell_type": "markdown",
   "id": "52a0b38b",
   "metadata": {},
   "source": [
    "## Normal 2D simulated data"
   ]
  },
  {
   "cell_type": "code",
   "execution_count": null,
   "id": "eaa7606c",
   "metadata": {},
   "outputs": [],
   "source": [
    "phase_imgs = generate_simulated_data_2D(img_dims, TEs, reciever_offset=True)\n",
    "# wrap phase\n",
    "phase_imgs_wrapped = wrap_phase(phase_imgs)\n",
    "\n",
    "plot_image_series(np.concatenate((phase_imgs, phase_imgs_wrapped)),\n",
    "                  [f\"TE = {t} ms\\nphase\" for t in TEs] + [\"wrapped phase\"]*3,\n",
    "                  nrows=2,\n",
    "                  figsize=(9,5))"
   ]
  },
  {
   "cell_type": "markdown",
   "id": "b66f81fe",
   "metadata": {},
   "source": [
    "## Noisy simulated data: 3rd echo with gaussian noise"
   ]
  },
  {
   "cell_type": "code",
   "execution_count": null,
   "id": "ea6a47ab",
   "metadata": {},
   "outputs": [],
   "source": [
    "# Add noise to third echo image\n",
    "phase_imgs_noisy = np.copy(phase_imgs)\n",
    "phase_imgs_noisy[2] = np.squeeze(noisy(\"gauss\", np.expand_dims(phase_imgs[2], axis=2)))\n",
    "# wrap phase\n",
    "phase_imgs_noisy_wrapped = wrap_phase(phase_imgs_noisy)\n",
    "\n",
    "plot_image_series(np.concatenate((phase_imgs_noisy, phase_imgs_noisy_wrapped)),\n",
    "                  [f\"TE = {t} ms\\n{x} phase\" for t, x in zip(TEs, [\"\", \"\", \"noisy\"])] + [\"wrapped phase\"] * 2 + [\"noisy wrapped phase\"],\n",
    "                  nrows=2,\n",
    "                  figsize=(9,5))"
   ]
  },
  {
   "cell_type": "markdown",
   "id": "e402d223",
   "metadata": {},
   "source": [
    "## Ok now lets create some magnitude images"
   ]
  },
  {
   "cell_type": "code",
   "execution_count": null,
   "id": "8e8d96d2",
   "metadata": {},
   "outputs": [],
   "source": [
    "magnitude_imgs = np.ones((3, *img_dims))\n",
    "magnitude_imgs[2] *= 1\n",
    "\n",
    "plot_image_series(magnitude_imgs, [f\"TE = {t} ms\" for t in TEs], nrows=1, normalize=True, figsize=(9,3))"
   ]
  },
  {
   "cell_type": "markdown",
   "id": "796b23ac",
   "metadata": {},
   "source": [
    "## UMPIRE\n",
    "\n",
    "First, combine phase and magnitude into complex array:"
   ]
  },
  {
   "cell_type": "code",
   "execution_count": null,
   "id": "e3feaf01",
   "metadata": {},
   "outputs": [],
   "source": [
    "complex_imgs = magnitude_imgs * np.exp(1j * phase_imgs)\n",
    "complex_imgs_noisy = magnitude_imgs * np.exp(1j * phase_imgs_noisy)"
   ]
  },
  {
   "cell_type": "markdown",
   "id": "61b2915e",
   "metadata": {},
   "source": [
    "### STEP 2 - Phase Difference Images"
   ]
  },
  {
   "cell_type": "code",
   "execution_count": null,
   "id": "6aa29815",
   "metadata": {},
   "outputs": [],
   "source": [
    "out_2 = UMPIRE(\n",
    "    complex_imgs_noisy,\n",
    "    TEs,\n",
    "    DPD_filter_func=None,\n",
    "    magnitude_weighted_omega_star=True,\n",
    "    debug_return_step=2\n",
    ")\n",
    "plot_image_series(out_2,\n",
    "                  [\"PD21\", \"PD32\"],\n",
    "                  nrows=1,\n",
    "                  figsize=(9,3))"
   ]
  },
  {
   "cell_type": "code",
   "execution_count": null,
   "id": "4e0e6f81",
   "metadata": {},
   "outputs": [],
   "source": [
    "out_6 = UMPIRE(\n",
    "    complex_imgs_noisy,\n",
    "    TEs,\n",
    "    DPD_filter_func=None,\n",
    "    magnitude_weighted_omega_star=True,\n",
    "    debug_return_step=6\n",
    ")\n",
    "plot_image_series(out_6,\n",
    "                  [\"PD21_prime\", \"PD32_prime\"],\n",
    "                  nrows=1,\n",
    "                  normalize=True,\n",
    "                  figsize=(9,3))"
   ]
  },
  {
   "cell_type": "markdown",
   "id": "ac2b4e32",
   "metadata": {},
   "source": [
    "### STEP 7 - $\\omega^*$-image"
   ]
  },
  {
   "cell_type": "code",
   "execution_count": null,
   "id": "023f6901",
   "metadata": {},
   "outputs": [],
   "source": [
    "out_7 = UMPIRE(\n",
    "    complex_imgs_noisy,\n",
    "    TEs,\n",
    "    DPD_filter_func=\"default\",\n",
    "    magnitude_weighted_omega_star=True,\n",
    "    debug_return_step=7\n",
    ")\n",
    "\n",
    "plot_image_series(out_7,\n",
    "                  [r\"$\\omega^*$ PD21 only\", r\"$\\omega^*$ with mw-PDs\"],\n",
    "                  nrows=1,\n",
    "                  normalize=True,\n",
    "                  figsize=(9,5))\n",
    "\n",
    "# plot_image_series(np.log(np.abs(phase_imgs_umpire)),\n",
    "#                   [\"PD21 only\", \"mw-avg. PDs\"],\n",
    "#                   nrows=1,\n",
    "#                   normalize=True,\n",
    "#                   figsize=(9,5))"
   ]
  },
  {
   "cell_type": "code",
   "execution_count": null,
   "id": "0a250591",
   "metadata": {},
   "outputs": [],
   "source": [
    "fig = plt.figure(figsize=(5,4))\n",
    "plt.imshow(np.abs(out_7[1] - out_7[0]), cmap='Reds')\n",
    "plt.colorbar()\n",
    "plt.title(\"|PD21 - mw-avg. PDs|\")\n",
    "fig.tight_layout()"
   ]
  },
  {
   "cell_type": "markdown",
   "id": "9d29b71f",
   "metadata": {},
   "source": [
    "## UMPIRE final output"
   ]
  },
  {
   "cell_type": "code",
   "execution_count": null,
   "id": "fcad013c",
   "metadata": {},
   "outputs": [],
   "source": [
    "\n",
    "\n",
    "# not magnitude weighted\n",
    "phase_imgs_umpire = UMPIRE(\n",
    "    complex_imgs_noisy,\n",
    "    TEs,\n",
    "    DPD_filter_func=\"default\",\n",
    "    magnitude_weighted_omega_star=False,\n",
    ")\n",
    "\n",
    "# magnitude weighted\n",
    "phase_imgs_umpire_mw = UMPIRE(\n",
    "    complex_imgs_noisy,\n",
    "    TEs,\n",
    "    DPD_filter_func=\"default\",\n",
    "    magnitude_weighted_omega_star=True,\n",
    ")"
   ]
  },
  {
   "cell_type": "markdown",
   "id": "8f7a0f61",
   "metadata": {},
   "source": [
    "## Comparison with ground truth"
   ]
  },
  {
   "cell_type": "code",
   "execution_count": null,
   "id": "ec0a33be",
   "metadata": {},
   "outputs": [],
   "source": [
    "grnd_truth = generate_simulated_data_2D(img_dims, TEs, reciever_offset=False)\n",
    "\n",
    "abs_error = np.abs(grnd_truth - phase_imgs_umpire)\n",
    "abs_error_mw = np.abs(grnd_truth - phase_imgs_umpire_mw)\n",
    "\n",
    "print(f\"no mw: {np.sum(abs_error):.0f}\")\n",
    "print(f\"   mw: {np.sum(abs_error_mw):.0f}\")"
   ]
  },
  {
   "cell_type": "code",
   "execution_count": null,
   "id": "e075be88",
   "metadata": {},
   "outputs": [],
   "source": [
    "plot_image_series(np.concatenate((abs_error, abs_error_mw)),\n",
    "                  [f\"TE = {t} ms\\nabs. error mwOFF\" for t in TEs] + [\"abs. error mwON \"] * 3,\n",
    "                  nrows=2,\n",
    "                  normalize=False,\n",
    "                  cmap='Reds',\n",
    "                  figsize=(9,7))"
   ]
  }
 ],
 "metadata": {
  "kernelspec": {
   "display_name": "Python 3 (ipykernel)",
   "language": "python",
   "name": "python3"
  },
  "language_info": {
   "codemirror_mode": {
    "name": "ipython",
    "version": 3
   },
   "file_extension": ".py",
   "mimetype": "text/x-python",
   "name": "python",
   "nbconvert_exporter": "python",
   "pygments_lexer": "ipython3",
   "version": "3.7.0"
  }
 },
 "nbformat": 4,
 "nbformat_minor": 5
}
